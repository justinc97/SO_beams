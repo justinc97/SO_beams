{
 "cells": [
  {
   "cell_type": "markdown",
   "metadata": {},
   "source": [
    "# Simulate a Noise map and read a CMB sim\n",
    "Need to be equal noise and cmb simulations. Takes ages to simulate one for me so if you have a few or have time, this will give good results with like 20 noise and CMB sims."
   ]
  },
  {
   "cell_type": "code",
   "execution_count": null,
   "metadata": {},
   "outputs": [],
   "source": [
    "import sim_prep\n",
    "import Beam_Profiles\n",
    "noise_map = sim_prep.simnoise('LT2_MFF2')\n",
    "cmb_map, cmb_constants = sim_prep.read_cmb_maps('LT2_MFF2', 1)"
   ]
  },
  {
   "cell_type": "markdown",
   "metadata": {},
   "source": [
    "# Catalogue Data"
   ]
  },
  {
   "cell_type": "code",
   "execution_count": null,
   "metadata": {},
   "outputs": [],
   "source": [
    "import pandas as pd\n",
    "import numpy as np\n",
    "full_df_cut = pd.read_csv('irsa_catalog_search_results_tbl_cut.csv')\n",
    "df_cut = full_df_cut[full_df_cut['flux1'].notna()]\n",
    "df_cut = df_cut[df_cut['flux2'].notna()]\n",
    "df_cut = df_cut[df_cut['flux3'].notna()]\n",
    "df_cut = df_cut[df_cut['flux4'].notna()]\n",
    "df_cut = df_cut[df_cut['flux5'].notna()]\n",
    "df_cut = df_cut[df_cut['flux6'].notna()]\n",
    "\n",
    "sorted_flux_cut = df_cut.sort_values(['flux6'], ascending = [False])\n",
    "sorted_flux_cut = sorted_flux_cut.reset_index(drop = True)\n",
    "g_lons_cut = sorted_flux_cut[sorted_flux_cut.columns[1]]\n",
    "g_lats_cut = sorted_flux_cut[sorted_flux_cut.columns[2]]\n",
    "\n",
    "fluxvalues = {\n",
    "    'flux1': '30 GHz',\n",
    "    'flux2': '44 GHz',\n",
    "    'flux3': '70 GHz',\n",
    "    'flux4': '100 GHz',\n",
    "    'flux5': '143 GHz',\n",
    "    'flux6': '217 GHz',\n",
    "    'flux7': '353 GHz'\n",
    "}\n",
    "\n",
    "names = sorted_flux_cut['name'][[0]]\n",
    "mapglons = np.array(g_lons_cut[[0]])\n",
    "mapglats = np.array(g_lats_cut[[0]])\n",
    "mapflux143 = np.array(sorted_flux_cut['flux4'][[0]])\n"
   ]
  },
  {
   "cell_type": "markdown",
   "metadata": {},
   "source": [
    "# Mask and add source\n",
    "#### Mask map around source coordinates, add sorce and convolve with 2D Gaussian beam"
   ]
  },
  {
   "cell_type": "code",
   "execution_count": null,
   "metadata": {},
   "outputs": [],
   "source": [
    "beam_arcm, cmb_nside, freq, channel = cmb_constants\n",
    "flux2use = mapflux143\n",
    "\n",
    "beam_maps = beam_cutout(cmb_map, [np.array(noise_map)], beam_arcm, flux2use, \n",
    "                   (mapglons, mapglats), freq, \n",
    "                   cmb_nside = 4096, shape_out = (512, 512))"
   ]
  },
  {
   "cell_type": "markdown",
   "metadata": {},
   "source": [
    "# Calculate B_ell from radial profiles"
   ]
  },
  {
   "cell_type": "code",
   "execution_count": null,
   "metadata": {},
   "outputs": [],
   "source": [
    "radial_profiles, all_bls, mean_bl, confidence_intervals, pivot_ell = beam_profile(beam_maps, beam_arcm, flux2use)"
   ]
  },
  {
   "cell_type": "markdown",
   "metadata": {},
   "source": [
    "# Calculate Eigenmodes"
   ]
  },
  {
   "cell_type": "code",
   "execution_count": null,
   "metadata": {},
   "outputs": [],
   "source": [
    "columns = map(str, range(len(cmb_map)))\n",
    "flux = 0\n",
    "edict = pd.DataFrame(columns = columns)\n",
    "for i in np.arange(len(cmb_map)):\n",
    "    edict[str(i)] = testbls[flux][i]\n",
    "evals, evecs = utils.emodes(edict)"
   ]
  },
  {
   "cell_type": "code",
   "execution_count": null,
   "metadata": {},
   "outputs": [],
   "source": [
    "# Take largest 4 eigenmodes only to plot or use in 2 delta B_ell / B_ell\n",
    "for i in range(len(evecs[flux][0]) - 4, len(evecs[flux][0])):\n",
    "    emode_vec = []\n",
    "    for j in range(len(evecs[flux])):\n",
    "        emode_vec.append(all_evecs[flux][j][i])\n",
    "    emode = np.array(emode_vec) * np.sqrt(evals[flux][i])"
   ]
  }
 ],
 "metadata": {
  "kernelspec": {
   "display_name": "jc_env-jupyter",
   "language": "python",
   "name": "jc_env-jupyter"
  },
  "language_info": {
   "codemirror_mode": {
    "name": "ipython",
    "version": 3
   },
   "file_extension": ".py",
   "mimetype": "text/x-python",
   "name": "python",
   "nbconvert_exporter": "python",
   "pygments_lexer": "ipython3",
   "version": "3.7.7"
  }
 },
 "nbformat": 4,
 "nbformat_minor": 4
}
